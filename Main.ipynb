{
 "cells": [
  {
   "cell_type": "markdown",
   "metadata": {},
   "source": [
    "# Libraries"
   ]
  },
  {
   "cell_type": "code",
   "execution_count": 1,
   "metadata": {},
   "outputs": [],
   "source": [
    "import cv2\n",
    "import numpy as np\n",
    "import face_recognition\n",
    "import os\n",
    "from datetime import datetime"
   ]
  },
  {
   "cell_type": "code",
   "execution_count": 2,
   "metadata": {},
   "outputs": [
    {
     "data": {
      "text/plain": [
       "'d:\\\\GitHub\\\\Attendance-system-Computer-vision-Arabic-main'"
      ]
     },
     "execution_count": 2,
     "metadata": {},
     "output_type": "execute_result"
    }
   ],
   "source": [
    "pwd"
   ]
  },
  {
   "cell_type": "markdown",
   "metadata": {},
   "source": [
    "# Path for test images"
   ]
  },
  {
   "cell_type": "code",
   "execution_count": 3,
   "metadata": {},
   "outputs": [
    {
     "name": "stdout",
     "output_type": "stream",
     "text": [
      "['abdo.jpeg', 'emilia.webp', 'eslam.jpeg', 'messi.webp', 'mohamed.jpeg', 'scarlett.jpg', 'treka.jpg']\n"
     ]
    }
   ],
   "source": [
    "path = 'AttendanceImages'\n",
    "images = []\n",
    "classNames = []\n",
    "myList = os.listdir(path)\n",
    "print(myList)"
   ]
  },
  {
   "cell_type": "markdown",
   "metadata": {},
   "source": [
    "# Extracting names from the List"
   ]
  },
  {
   "cell_type": "code",
   "execution_count": 4,
   "metadata": {},
   "outputs": [
    {
     "name": "stdout",
     "output_type": "stream",
     "text": [
      "['abdo', 'emilia', 'eslam', 'messi', 'mohamed', 'scarlett', 'treka']\n"
     ]
    }
   ],
   "source": [
    "for cl in myList:\n",
    "    curImg = cv2.imread(f'{path}/{cl}')\n",
    "    images.append(curImg)\n",
    "    classNames.append(os.path.splitext(cl)[0])\n",
    "print(classNames)"
   ]
  },
  {
   "cell_type": "markdown",
   "metadata": {},
   "source": [
    "# Converting the Images into Encodings"
   ]
  },
  {
   "cell_type": "code",
   "execution_count": 5,
   "metadata": {},
   "outputs": [],
   "source": [
    "def findEncodings(images):\n",
    "    encodeList = []\n",
    "    for img in images:\n",
    "        img = cv2.cvtColor(img, cv2.COLOR_BGR2RGB)\n",
    "        encode = face_recognition.face_encodings(img)[0]\n",
    "        encodeList.append(encode)\n",
    "    return encodeList"
   ]
  },
  {
   "cell_type": "markdown",
   "metadata": {},
   "source": [
    "# Marking Attendance"
   ]
  },
  {
   "cell_type": "code",
   "execution_count": 6,
   "metadata": {},
   "outputs": [
    {
     "name": "stdout",
     "output_type": "stream",
     "text": [
      "Encoding Complete\n"
     ]
    }
   ],
   "source": [
    "def markAttendance(name):\n",
    "    with open('Attendance.csv','r+') as f:\n",
    "        myDataList = f.readlines()\n",
    "        nameList = []\n",
    "        for line in myDataList:\n",
    "            entry = line.split(',')\n",
    "            nameList.append(entry[0])\n",
    "        if name not in nameList:\n",
    "            now = datetime.now()\n",
    "            dtString = now.strftime('%H:%M:%S')\n",
    "            f.writelines(f'\\n{name},{dtString}')\n",
    "        \n",
    "\n",
    "encodeListKnown = findEncodings(images)\n",
    "print('Encoding Complete')\n"
   ]
  },
  {
   "cell_type": "markdown",
   "metadata": {},
   "source": [
    "# Camera  Access and Capturing the Face"
   ]
  },
  {
   "cell_type": "code",
   "execution_count": null,
   "metadata": {},
   "outputs": [
    {
     "name": "stdout",
     "output_type": "stream",
     "text": [
      "matches [False, False, True, False, False, False, False]\n",
      "[0.78075014 0.89341018 0.55069961 0.90775549 0.73026828 0.84160589\n",
      " 0.73982976]\n",
      "ESLAM\n",
      "matches [False, False, True, False, False, False, False]\n",
      "[0.78099075 0.94082346 0.55648876 0.9453833  0.714837   0.8823944\n",
      " 0.74584452]\n",
      "ESLAM\n",
      "matches [False, False, True, False, False, False, False]\n",
      "[0.75648957 0.9018964  0.53391144 0.90845815 0.68459631 0.8761109\n",
      " 0.71108817]\n",
      "ESLAM\n",
      "matches [False, False, True, False, False, False, False]\n",
      "[0.76428691 0.90663992 0.52546713 0.89730272 0.70727404 0.86024391\n",
      " 0.70133639]\n",
      "ESLAM\n",
      "matches [False, False, True, False, False, False, False]\n",
      "[0.77856315 0.90900766 0.5613795  0.9164509  0.73104603 0.88875023\n",
      " 0.71566459]\n",
      "ESLAM\n",
      "matches [False, False, True, False, False, False, False]\n",
      "[0.80628891 0.92359587 0.55136356 0.93896539 0.74175028 0.87720291\n",
      " 0.71762607]\n",
      "ESLAM\n",
      "matches [False, False, True, False, False, False, False]\n",
      "[0.80840999 0.91759631 0.54607292 0.93937295 0.75061673 0.87506518\n",
      " 0.7201856 ]\n",
      "ESLAM\n",
      "matches [False, False, True, False, False, False, False]\n",
      "[0.80246437 0.91829913 0.5414769  0.92117724 0.75331556 0.8824562\n",
      " 0.71654731]\n",
      "ESLAM\n",
      "matches [False, False, True, False, False, False, False]\n",
      "[0.79551592 0.91932414 0.55228752 0.92470639 0.75443706 0.88518054\n",
      " 0.71551172]\n",
      "ESLAM\n",
      "matches [False, False, True, False, False, False, False]\n",
      "[0.79716359 0.93208736 0.56259292 0.9384802  0.75529128 0.88642478\n",
      " 0.71275228]\n",
      "ESLAM\n",
      "matches [False, False, True, False, False, False, False]\n",
      "[0.79149037 0.9218718  0.56503697 0.93208904 0.74565879 0.89605173\n",
      " 0.70949474]\n",
      "ESLAM\n",
      "matches [False, False, True, False, False, False, False]\n",
      "[0.783803   0.92107584 0.5512707  0.93150504 0.73320072 0.87447052\n",
      " 0.73286459]\n",
      "ESLAM\n",
      "matches [False, False, True, False, False, False, False]\n",
      "[0.78192853 0.9268318  0.55419027 0.92002622 0.7307211  0.88112432\n",
      " 0.72801405]\n",
      "ESLAM\n",
      "matches [False, False, True, False, False, False, False]\n",
      "[0.79135431 0.93387064 0.5726986  0.92815643 0.74908517 0.89741474\n",
      " 0.73920432]\n",
      "ESLAM\n",
      "matches [False, False, True, False, False, False, False]\n",
      "[0.78443249 0.9294956  0.56597967 0.93561147 0.74257079 0.88781415\n",
      " 0.7384206 ]\n",
      "ESLAM\n",
      "matches [False, False, True, False, False, False, False]\n",
      "[0.79569218 0.92527733 0.55545367 0.93509081 0.75374817 0.86976532\n",
      " 0.71488543]\n",
      "ESLAM\n",
      "matches [False, False, True, False, False, False, False]\n",
      "[0.76535265 0.93774623 0.5731005  0.91580403 0.73553804 0.91349765\n",
      " 0.68737531]\n",
      "ESLAM\n",
      "matches [False, False, True, False, False, False, False]\n",
      "[0.76577929 0.9381704  0.59019886 0.91968631 0.72190705 0.87484081\n",
      " 0.74739769]\n",
      "ESLAM\n",
      "matches [False, False, True, False, False, False, False]\n",
      "[0.77720987 0.90009276 0.58842976 0.87775784 0.69273883 0.88519506\n",
      " 0.66564441]\n",
      "ESLAM\n",
      "matches [False, False, True, False, False, False, True]\n",
      "[0.78841511 0.92253046 0.59359392 0.8994445  0.73668858 0.89868134\n",
      " 0.59675609]\n",
      "ESLAM\n"
     ]
    }
   ],
   "source": [
    "cap = cv2.VideoCapture(0)\n",
    "frame_resizing = 0.25\n",
    "\n",
    "while True:\n",
    "    success, img = cap.read()\n",
    "    imgS = cv2.resize(img, (0, 0), fx=frame_resizing, fy=frame_resizing)\n",
    "    imgS = cv2.cvtColor(imgS, cv2.COLOR_BGR2RGB)\n",
    " \n",
    "    facesCurFrame = face_recognition.face_locations(imgS)\n",
    "    encodesCurFrame = face_recognition.face_encodings(imgS,facesCurFrame)\n",
    " \n",
    "    for encodeFace,faceLoc in zip(encodesCurFrame,facesCurFrame):\n",
    "        matches = face_recognition.compare_faces(encodeListKnown,encodeFace)\n",
    "        print('matches',matches)\n",
    "        faceDis = face_recognition.face_distance(encodeListKnown,encodeFace)\n",
    "        print(faceDis)\n",
    "        matchIndex = np.argmin(faceDis)\n",
    "        if matches[matchIndex]:\n",
    "            name = classNames[matchIndex].upper()\n",
    "            print(name)\n",
    "            \n",
    "            faceLoc = np.array(faceLoc)\n",
    "            faceLoc = faceLoc / 0.25\n",
    "            faceLoc=faceLoc.astype(int)\n",
    "            y1, x2, y2, x1 = faceLoc[0], faceLoc[1], faceLoc[2], faceLoc[3]\n",
    "         \n",
    "            cv2.rectangle(img,(x1,y1),(x2,y2),(0,255,0),2)\n",
    "            cv2.rectangle(img,(x1,y2-35),(x2,y2),(0,255,0),cv2.FILLED)\n",
    "            cv2.putText(img,name,(x1+6,y2-6),cv2.FONT_HERSHEY_COMPLEX,1,(255,255,255),2)\n",
    "            markAttendance(name)\n",
    " \n",
    "    cv2.imshow('Webcam',img)\n",
    "    key = cv2.waitKey(1)\n",
    "    if key == 27:\n",
    "        break\n",
    "cap.release()\n",
    "cv2.destroyAllWindows()"
   ]
  },
  {
   "cell_type": "code",
   "execution_count": null,
   "metadata": {},
   "outputs": [],
   "source": []
  },
  {
   "cell_type": "code",
   "execution_count": null,
   "metadata": {},
   "outputs": [],
   "source": []
  }
 ],
 "metadata": {
  "kernelspec": {
   "display_name": "Python 3",
   "language": "python",
   "name": "python3"
  },
  "language_info": {
   "codemirror_mode": {
    "name": "ipython",
    "version": 3
   },
   "file_extension": ".py",
   "mimetype": "text/x-python",
   "name": "python",
   "nbconvert_exporter": "python",
   "pygments_lexer": "ipython3",
   "version": "3.10.9"
  }
 },
 "nbformat": 4,
 "nbformat_minor": 4
}
